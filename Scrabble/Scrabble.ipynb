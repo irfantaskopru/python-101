{
 "cells": [
  {
   "cell_type": "code",
   "execution_count": 1,
   "id": "85ec5d07",
   "metadata": {},
   "outputs": [],
   "source": [
    "letters = [\"A\", \"B\", \"C\", \"D\", \"E\", \"F\", \"G\", \"H\", \"I\", \"J\", \"K\", \"L\", \"M\", \"N\", \"O\", \"P\", \"Q\", \"R\", \"S\", \"T\", \"U\", \"V\", \"W\", \"X\", \"Y\", \"Z\"]\n",
    "points = [1, 3, 3, 2, 1, 4, 2, 4, 1, 8, 5, 1, 3, 4, 1, 3, 10, 1, 1, 1, 1, 4, 4, 8, 4, 10]"
   ]
  },
  {
   "cell_type": "code",
   "execution_count": 9,
   "id": "1466ec2f",
   "metadata": {},
   "outputs": [
    {
     "data": {
      "text/plain": [
       "{'A': 1,\n",
       " 'B': 3,\n",
       " 'C': 3,\n",
       " 'D': 2,\n",
       " 'E': 1,\n",
       " 'F': 4,\n",
       " 'G': 2,\n",
       " 'H': 4,\n",
       " 'I': 1,\n",
       " 'J': 8,\n",
       " 'K': 5,\n",
       " 'L': 1,\n",
       " 'M': 3,\n",
       " 'N': 4,\n",
       " 'O': 1,\n",
       " 'P': 3,\n",
       " 'Q': 10,\n",
       " 'R': 1,\n",
       " 'S': 1,\n",
       " 'T': 1,\n",
       " 'U': 1,\n",
       " 'V': 4,\n",
       " 'W': 4,\n",
       " 'X': 8,\n",
       " 'Y': 4,\n",
       " 'Z': 10}"
      ]
     },
     "execution_count": 9,
     "metadata": {},
     "output_type": "execute_result"
    }
   ],
   "source": [
    "letter_to_points = dict(zip(letters,points))\n",
    "letter_to_points"
   ]
  },
  {
   "cell_type": "code",
   "execution_count": 13,
   "id": "c35590f3",
   "metadata": {},
   "outputs": [],
   "source": [
    "letter_to_points[\" \"] = 0"
   ]
  },
  {
   "cell_type": "code",
   "execution_count": 16,
   "id": "12d9e974",
   "metadata": {},
   "outputs": [],
   "source": [
    "def score_word(word):\n",
    "    point_total = 0\n",
    "    for i in word:\n",
    "        point_total += letter_to_points.get(i,0)\n",
    "    return point_total"
   ]
  },
  {
   "cell_type": "code",
   "execution_count": 19,
   "id": "f2298c21",
   "metadata": {},
   "outputs": [
    {
     "data": {
      "text/plain": [
       "15"
      ]
     },
     "execution_count": 19,
     "metadata": {},
     "output_type": "execute_result"
    }
   ],
   "source": [
    "brownie_points = score_word(\"BROWNIE\")\n",
    "brownie_points"
   ]
  },
  {
   "cell_type": "code",
   "execution_count": 20,
   "id": "0b9218a9",
   "metadata": {},
   "outputs": [],
   "source": [
    "player_to_words = {\"player1\" : [\"BLUE\", \"TENNIS\", \"EXIT\"],\n",
    "\"wordNerd\" : [\"EARTH\",\"EYES\",\"MACHINE\"],\n",
    "\"Lexi Con\" : [\"ERASER\",\"BELLY\",\"HUSKY\"],\n",
    "\"Prof Reader\" : [\"ZAP\",\"COMA\",\"PERIOD\"]}"
   ]
  },
  {
   "cell_type": "code",
   "execution_count": 21,
   "id": "bc02842a",
   "metadata": {},
   "outputs": [],
   "source": [
    "player_to_points = {}"
   ]
  },
  {
   "cell_type": "code",
   "execution_count": 26,
   "id": "15ae4574",
   "metadata": {},
   "outputs": [],
   "source": [
    "for player, words in player_to_words.items():\n",
    "    player_points = 0\n",
    "    for word in words:\n",
    "        player_points += score_word(word)\n",
    "    player_to_points[player] = player_points"
   ]
  },
  {
   "cell_type": "code",
   "execution_count": 27,
   "id": "347f0f7f",
   "metadata": {},
   "outputs": [
    {
     "data": {
      "text/plain": [
       "{'player1': 29, 'wordNerd': 32, 'Lexi Con': 31, 'Prof Reader': 31}"
      ]
     },
     "execution_count": 27,
     "metadata": {},
     "output_type": "execute_result"
    }
   ],
   "source": [
    "player_to_points"
   ]
  },
  {
   "cell_type": "code",
   "execution_count": 43,
   "id": "da92118b",
   "metadata": {},
   "outputs": [],
   "source": [
    "def play_Word(player,word):\n",
    "    player_to_words[player].append(word)\n",
    "play_Word(\"player1\",\"BREAK\")"
   ]
  },
  {
   "cell_type": "code",
   "execution_count": 46,
   "id": "de497025",
   "metadata": {},
   "outputs": [
    {
     "data": {
      "text/plain": [
       "{'player1': ['BLUE', 'TENNIS', 'EXIT', 'CODE', 'BREAK'],\n",
       " 'wordNerd': ['EARTH', 'EYES', 'MACHINE'],\n",
       " 'Lexi Con': ['ERASER', 'BELLY', 'HUSKY'],\n",
       " 'Prof Reader': ['ZAP', 'COMA', 'PERIOD']}"
      ]
     },
     "execution_count": 46,
     "metadata": {},
     "output_type": "execute_result"
    }
   ],
   "source": [
    "player_to_words"
   ]
  },
  {
   "cell_type": "code",
   "execution_count": 47,
   "id": "edb967e0",
   "metadata": {},
   "outputs": [],
   "source": [
    "def update_point_totals():\n",
    "    for player, words in player_to_words.items():\n",
    "        player_points = 0\n",
    "        for word in words:\n",
    "            player_points += score_word(word)\n",
    "        player_to_points[player] = player_points\n",
    "    "
   ]
  },
  {
   "cell_type": "code",
   "execution_count": 48,
   "id": "efbaeaea",
   "metadata": {},
   "outputs": [
    {
     "data": {
      "text/plain": [
       "{'player1': 47, 'wordNerd': 32, 'Lexi Con': 31, 'Prof Reader': 31}"
      ]
     },
     "execution_count": 48,
     "metadata": {},
     "output_type": "execute_result"
    }
   ],
   "source": [
    "update_point_totals()\n",
    "player_to_points"
   ]
  },
  {
   "cell_type": "code",
   "execution_count": null,
   "id": "44598fa9",
   "metadata": {},
   "outputs": [],
   "source": []
  }
 ],
 "metadata": {
  "kernelspec": {
   "display_name": "Python 3 (ipykernel)",
   "language": "python",
   "name": "python3"
  },
  "language_info": {
   "codemirror_mode": {
    "name": "ipython",
    "version": 3
   },
   "file_extension": ".py",
   "mimetype": "text/x-python",
   "name": "python",
   "nbconvert_exporter": "python",
   "pygments_lexer": "ipython3",
   "version": "3.9.13"
  }
 },
 "nbformat": 4,
 "nbformat_minor": 5
}
