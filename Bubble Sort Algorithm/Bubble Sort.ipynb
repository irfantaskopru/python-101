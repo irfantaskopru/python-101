{
 "cells": [
  {
   "cell_type": "code",
   "execution_count": 1,
   "id": "1a519a89",
   "metadata": {},
   "outputs": [],
   "source": [
    "import random"
   ]
  },
  {
   "cell_type": "code",
   "execution_count": 8,
   "id": "ab6b8b61",
   "metadata": {},
   "outputs": [],
   "source": [
    "lst = random.sample(range(0,40),12)"
   ]
  },
  {
   "cell_type": "code",
   "execution_count": 16,
   "id": "d337a636",
   "metadata": {},
   "outputs": [
    {
     "data": {
      "text/plain": [
       "[23, 21, 14, 38, 34, 9, 35, 2, 28, 10, 16, 7]"
      ]
     },
     "execution_count": 16,
     "metadata": {},
     "output_type": "execute_result"
    }
   ],
   "source": [
    "lst"
   ]
  },
  {
   "cell_type": "code",
   "execution_count": 36,
   "id": "0eb56fe1",
   "metadata": {},
   "outputs": [
    {
     "name": "stdout",
     "output_type": "stream",
     "text": [
      "[0, 1, 2, 3, 4, 5, 6, 7, 8, 9, 10]\n"
     ]
    }
   ],
   "source": [
    "ex = [*range(0,len(lst[0:-1]))]\n",
    "print(ex)"
   ]
  },
  {
   "cell_type": "code",
   "execution_count": 37,
   "id": "dc4c4ae4",
   "metadata": {},
   "outputs": [
    {
     "data": {
      "text/plain": [
       "[2, 7, 9, 10, 14, 16, 21, 23, 28, 34, 35, 38]"
      ]
     },
     "execution_count": 37,
     "metadata": {},
     "output_type": "execute_result"
    }
   ],
   "source": [
    "def bubble(lst):\n",
    "    for i in range(len(lst)):\n",
    "        for j in range(0,len(lst[0:-1])):\n",
    "            if lst[j] > lst[j+1]:\n",
    "                lst[j], lst[j+1] = lst[j+1], lst[j]\n",
    "    return lst\n",
    "\n",
    "bubble(lst)"
   ]
  },
  {
   "cell_type": "code",
   "execution_count": null,
   "id": "435f9b07",
   "metadata": {},
   "outputs": [],
   "source": [
    "\n"
   ]
  }
 ],
 "metadata": {
  "kernelspec": {
   "display_name": "Python 3 (ipykernel)",
   "language": "python",
   "name": "python3"
  },
  "language_info": {
   "codemirror_mode": {
    "name": "ipython",
    "version": 3
   },
   "file_extension": ".py",
   "mimetype": "text/x-python",
   "name": "python",
   "nbconvert_exporter": "python",
   "pygments_lexer": "ipython3",
   "version": "3.9.13"
  }
 },
 "nbformat": 4,
 "nbformat_minor": 5
}
