{
 "cells": [
  {
   "cell_type": "code",
   "execution_count": 8,
   "id": "abd3b0c5",
   "metadata": {},
   "outputs": [],
   "source": [
    "# Call datetime lib\n",
    "from datetime import datetime"
   ]
  },
  {
   "cell_type": "code",
   "execution_count": 11,
   "id": "b9a43c26",
   "metadata": {},
   "outputs": [],
   "source": [
    "# Create a date\n",
    "birthday = datetime(1996,9,8) # Year, Month, Day, Hour, Second"
   ]
  },
  {
   "cell_type": "code",
   "execution_count": 12,
   "id": "0cce307a",
   "metadata": {},
   "outputs": [
    {
     "data": {
      "text/plain": [
       "1996"
      ]
     },
     "execution_count": 12,
     "metadata": {},
     "output_type": "execute_result"
    }
   ],
   "source": [
    "birthday.year # Get year of birthday"
   ]
  },
  {
   "cell_type": "code",
   "execution_count": 15,
   "id": "620180be",
   "metadata": {},
   "outputs": [
    {
     "data": {
      "text/plain": [
       "9"
      ]
     },
     "execution_count": 15,
     "metadata": {},
     "output_type": "execute_result"
    }
   ],
   "source": [
    "birthday.month # Get month of birthday"
   ]
  },
  {
   "cell_type": "code",
   "execution_count": 16,
   "id": "5c0941fd",
   "metadata": {},
   "outputs": [
    {
     "data": {
      "text/plain": [
       "8"
      ]
     },
     "execution_count": 16,
     "metadata": {},
     "output_type": "execute_result"
    }
   ],
   "source": [
    "birthday.day # Get day of birthday"
   ]
  },
  {
   "cell_type": "code",
   "execution_count": 18,
   "id": "6295ed4c",
   "metadata": {},
   "outputs": [
    {
     "data": {
      "text/plain": [
       "6"
      ]
     },
     "execution_count": 18,
     "metadata": {},
     "output_type": "execute_result"
    }
   ],
   "source": [
    "birthday.weekday() # 0=Monday ... 6=Sunday like index"
   ]
  },
  {
   "cell_type": "code",
   "execution_count": 21,
   "id": "7e29ccd7",
   "metadata": {},
   "outputs": [
    {
     "data": {
      "text/plain": [
       "datetime.datetime(2023, 3, 22, 17, 28, 33, 163700)"
      ]
     },
     "execution_count": 21,
     "metadata": {},
     "output_type": "execute_result"
    }
   ],
   "source": [
    "datetime.now() # Get time now\n"
   ]
  },
  {
   "cell_type": "code",
   "execution_count": 22,
   "id": "e3ea74ba",
   "metadata": {},
   "outputs": [
    {
     "data": {
      "text/plain": [
       "datetime.datetime(2023, 3, 22, 17, 28, 35, 651356)"
      ]
     },
     "execution_count": 22,
     "metadata": {},
     "output_type": "execute_result"
    }
   ],
   "source": [
    "datetime.now()"
   ]
  },
  {
   "cell_type": "code",
   "execution_count": 23,
   "id": "217865cc",
   "metadata": {},
   "outputs": [
    {
     "data": {
      "text/plain": [
       "datetime.timedelta(days=359)"
      ]
     },
     "execution_count": 23,
     "metadata": {},
     "output_type": "execute_result"
    }
   ],
   "source": [
    "datetime(1996,9,8) - datetime(1995,9,15) # Difference year"
   ]
  },
  {
   "cell_type": "code",
   "execution_count": 25,
   "id": "3d21088d",
   "metadata": {},
   "outputs": [
    {
     "data": {
      "text/plain": [
       "datetime.timedelta(days=2722, seconds=30310)"
      ]
     },
     "execution_count": 25,
     "metadata": {},
     "output_type": "execute_result"
    }
   ],
   "source": [
    "datetime(2022,7,25,22,53,45)-datetime(2015,2,10,14,28,35)"
   ]
  },
  {
   "cell_type": "code",
   "execution_count": 28,
   "id": "55b22d53",
   "metadata": {},
   "outputs": [
    {
     "data": {
      "text/plain": [
       "datetime.timedelta(days=365, seconds=63266, microseconds=988631)"
      ]
     },
     "execution_count": 28,
     "metadata": {},
     "output_type": "execute_result"
    }
   ],
   "source": [
    "datetime.now()-datetime(2022,3,22) # Difference between today and specific time"
   ]
  },
  {
   "cell_type": "code",
   "execution_count": 30,
   "id": "06c73a2b",
   "metadata": {},
   "outputs": [
    {
     "data": {
      "text/plain": [
       "4"
      ]
     },
     "execution_count": 30,
     "metadata": {},
     "output_type": "execute_result"
    }
   ],
   "source": [
    "# strptime Examples\n",
    "\n",
    "# We have to give directive to python\n",
    "parsed_date = datetime.strptime(\"Apr 23, 2023\", \"%b %d, %Y\")\n",
    "\n",
    "parsed_date.year # Get year\n",
    "\n",
    "parsed_date.month # Get month\n"
   ]
  },
  {
   "cell_type": "code",
   "execution_count": 32,
   "id": "c4d98f34",
   "metadata": {},
   "outputs": [
    {
     "data": {
      "text/plain": [
       "'Mar 22, 2023'"
      ]
     },
     "execution_count": 32,
     "metadata": {},
     "output_type": "execute_result"
    }
   ],
   "source": [
    "# strftime Example\n",
    "\n",
    "date_string = datetime.strftime(datetime.now(),\"%b %d, %Y\")\n",
    "\n",
    "date_string"
   ]
  },
  {
   "cell_type": "code",
   "execution_count": null,
   "id": "69120965",
   "metadata": {},
   "outputs": [],
   "source": []
  }
 ],
 "metadata": {
  "kernelspec": {
   "display_name": "Python 3 (ipykernel)",
   "language": "python",
   "name": "python3"
  },
  "language_info": {
   "codemirror_mode": {
    "name": "ipython",
    "version": 3
   },
   "file_extension": ".py",
   "mimetype": "text/x-python",
   "name": "python",
   "nbconvert_exporter": "python",
   "pygments_lexer": "ipython3",
   "version": "3.9.13"
  }
 },
 "nbformat": 4,
 "nbformat_minor": 5
}
